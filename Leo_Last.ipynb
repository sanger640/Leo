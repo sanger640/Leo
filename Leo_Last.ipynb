{
  "nbformat": 4,
  "nbformat_minor": 0,
  "metadata": {
    "colab": {
      "name": "Leo_Online.ipynb",
      "provenance": [],
      "collapsed_sections": []
    },
    "kernelspec": {
      "name": "python3",
      "display_name": "Python 3"
    }
  },
  "cells": [
    {
      "cell_type": "code",
      "metadata": {
        "id": "7pCN7WJfFVrb"
      },
      "source": [
        "from fastbook import *\r\n",
        "from fastai.vision.widgets import *"
      ],
      "execution_count": null,
      "outputs": []
    },
    {
      "cell_type": "code",
      "metadata": {
        "id": "A_h-HDSVCnga"
      },
      "source": [
        "import ipywidgets"
      ],
      "execution_count": null,
      "outputs": []
    },
    {
      "cell_type": "code",
      "metadata": {
        "id": "PtUZGOSPDWPt"
      },
      "source": [
        "path = Path()\r\n",
        "learn_inf = load_learner(path/'export.pkl')"
      ],
      "execution_count": null,
      "outputs": []
    },
    {
      "cell_type": "code",
      "metadata": {
        "id": "bq3oKOFMDh6-"
      },
      "source": [
        "btn_upload = ipywidgets.FileUpload()\r\n",
        "btn_run = ipywidgets.Button(description = 'Classify')\r\n",
        "out_pl = widgets.Output()\r\n",
        "lbl_pred = widgets.Label()"
      ],
      "execution_count": null,
      "outputs": []
    },
    {
      "cell_type": "code",
      "metadata": {
        "id": "4iYN9jniFE5F"
      },
      "source": [
        "def classify_images(change):\r\n",
        "  img = PILImage.create(btn_upload.data[-1])\r\n",
        "  out_pl.clear_output()\r\n",
        "  with out_pl: display(img.to_thumb(128,128))\r\n",
        "  pred,pred_idx,probs = learn_inf.predict(img)\r\n",
        "  lbl_pred.value = f'Prediction: {pred}; Probability: {probs[pred_idx]:.04f}'\r\n",
        "\r\n",
        "btn_run.on_click(classify_images)"
      ],
      "execution_count": null,
      "outputs": []
    },
    {
      "cell_type": "code",
      "metadata": {
        "id": "bboDJvDyx1WX"
      },
      "source": [
        "btn_upload.observe(on_data_change, names=['data'])"
      ],
      "execution_count": null,
      "outputs": []
    },
    {
      "cell_type": "code",
      "metadata": {
        "id": "B-9n-L5TFL-x"
      },
      "source": [
        "display(VBox([widgets.Label('Select your leopard!'), \r\n",
        "      btn_upload, btn_run, out_pl, lbl_pred]))"
      ],
      "execution_count": null,
      "outputs": []
    },
    {
      "cell_type": "code",
      "metadata": {
        "id": "HKdNsEWGxwgM"
      },
      "source": [
        ""
      ],
      "execution_count": null,
      "outputs": []
    }
  ]
}